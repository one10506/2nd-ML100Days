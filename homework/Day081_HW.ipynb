{
 "cells": [
  {
   "cell_type": "markdown",
   "metadata": {},
   "source": [
    "## Work\n",
    "1. 請比較使用 l1, l1_l2 及不同比例下的訓練結果"
   ]
  },
  {
   "cell_type": "code",
   "execution_count": 1,
   "metadata": {},
   "outputs": [
    {
     "name": "stderr",
     "output_type": "stream",
     "text": [
      "Using TensorFlow backend.\n"
     ]
    }
   ],
   "source": [
    "import os\n",
    "import keras\n",
    "\n",
    "# Disable GPU\n",
    "os.environ[\"CUDA_VISIBLE_DEVICES\"] = \"\""
   ]
  },
  {
   "cell_type": "code",
   "execution_count": 2,
   "metadata": {},
   "outputs": [],
   "source": [
    "train, test = keras.datasets.cifar10.load_data()"
   ]
  },
  {
   "cell_type": "code",
   "execution_count": 3,
   "metadata": {},
   "outputs": [],
   "source": [
    "## 資料前處理\n",
    "def preproc_x(x, flatten=True):\n",
    "    x = x / 255.\n",
    "    if flatten:\n",
    "        x = x.reshape((len(x), -1))\n",
    "    return x\n",
    "\n",
    "def preproc_y(y, num_classes=10):\n",
    "    if y.shape[-1] == 1:\n",
    "        y = keras.utils.to_categorical(y, num_classes)\n",
    "    return y    "
   ]
  },
  {
   "cell_type": "code",
   "execution_count": 4,
   "metadata": {},
   "outputs": [],
   "source": [
    "x_train, y_train = train\n",
    "x_test, y_test = test\n",
    "\n",
    "# Preproc the inputs\n",
    "x_train = preproc_x(x_train)\n",
    "x_test = preproc_x(x_test)\n",
    "\n",
    "# Preprc the outputs\n",
    "y_train = preproc_y(y_train)\n",
    "y_test = preproc_y(y_test)"
   ]
  },
  {
   "cell_type": "code",
   "execution_count": 13,
   "metadata": {},
   "outputs": [],
   "source": [
    "from keras.regularizers import l1, l2, l1_l2\n",
    "\n",
    "def build_mlp(input_shape, output_units=10, num_neurons=[512, 256, 128], l1_l2_ratio=1e-4):\n",
    "    input_layer = keras.layers.Input(input_shape)\n",
    "    \n",
    "    for i, n_units in enumerate(num_neurons):\n",
    "        if i == 0:\n",
    "            x = keras.layers.Dense(units=n_units, \n",
    "                                   activation=\"relu\", \n",
    "                                   name=\"hidden_layer\"+str(i+1), \n",
    "                                   kernel_regularizer=l1_l2(l1_l2_ratio))(input_layer)\n",
    "        else:\n",
    "            x = keras.layers.Dense(units=n_units, \n",
    "                                   activation=\"relu\", \n",
    "                                   name=\"hidden_layer\"+str(i+1),\n",
    "                                   kernel_regularizer=l1_l2(l1_l2_ratio))(x)\n",
    "    \n",
    "    out = keras.layers.Dense(units=output_units, activation=\"softmax\", name=\"output\")(x)\n",
    "    \n",
    "    model = keras.models.Model(inputs=[input_layer], outputs=[out])\n",
    "    return model"
   ]
  },
  {
   "cell_type": "code",
   "execution_count": 11,
   "metadata": {},
   "outputs": [],
   "source": [
    "\"\"\"Code Here\n",
    "設定超參數\n",
    "\"\"\"\n",
    "LEARNING_RATE=0.001\n",
    "EPOCHS = 25\n",
    "BATCH_SIZE = 256\n",
    "MOMENTUM =0.95\n",
    "L1_L2_EXP = [1e-2,1e-4,1e-8]"
   ]
  },
  {
   "cell_type": "code",
   "execution_count": 14,
   "metadata": {
    "scrolled": true
   },
   "outputs": [
    {
     "name": "stderr",
     "output_type": "stream",
     "text": [
      "W0724 09:49:27.634346  5448 deprecation_wrapper.py:119] From C:\\Users\\user\\Anaconda3\\lib\\site-packages\\keras\\backend\\tensorflow_backend.py:517: The name tf.placeholder is deprecated. Please use tf.compat.v1.placeholder instead.\n",
      "\n",
      "W0724 09:49:27.638824  5448 deprecation_wrapper.py:119] From C:\\Users\\user\\Anaconda3\\lib\\site-packages\\keras\\backend\\tensorflow_backend.py:4138: The name tf.random_uniform is deprecated. Please use tf.random.uniform instead.\n",
      "\n",
      "W0724 09:49:27.724983  5448 deprecation_wrapper.py:119] From C:\\Users\\user\\Anaconda3\\lib\\site-packages\\keras\\optimizers.py:790: The name tf.train.Optimizer is deprecated. Please use tf.compat.v1.train.Optimizer instead.\n",
      "\n"
     ]
    },
    {
     "name": "stdout",
     "output_type": "stream",
     "text": [
      "Experiment with Regulizer = 0.010000\n",
      "_________________________________________________________________\n",
      "Layer (type)                 Output Shape              Param #   \n",
      "=================================================================\n",
      "input_1 (InputLayer)         (None, 3072)              0         \n",
      "_________________________________________________________________\n",
      "hidden_layer1 (Dense)        (None, 512)               1573376   \n",
      "_________________________________________________________________\n",
      "hidden_layer2 (Dense)        (None, 256)               131328    \n",
      "_________________________________________________________________\n",
      "hidden_layer3 (Dense)        (None, 128)               32896     \n",
      "_________________________________________________________________\n",
      "output (Dense)               (None, 10)                1290      \n",
      "=================================================================\n",
      "Total params: 1,738,890\n",
      "Trainable params: 1,738,890\n",
      "Non-trainable params: 0\n",
      "_________________________________________________________________\n"
     ]
    },
    {
     "name": "stderr",
     "output_type": "stream",
     "text": [
      "W0724 09:49:27.955013  5448 deprecation.py:323] From C:\\Users\\user\\Anaconda3\\lib\\site-packages\\tensorflow\\python\\ops\\math_grad.py:1250: add_dispatch_support.<locals>.wrapper (from tensorflow.python.ops.array_ops) is deprecated and will be removed in a future version.\n",
      "Instructions for updating:\n",
      "Use tf.where in 2.0, which has the same broadcast rule as np.where\n"
     ]
    },
    {
     "name": "stdout",
     "output_type": "stream",
     "text": [
      "Train on 50000 samples, validate on 10000 samples\n",
      "Epoch 1/25\n",
      "50000/50000 [==============================] - 10s 193us/step - loss: 197.6871 - acc: 0.2267 - val_loss: 35.8887 - val_acc: 0.2506\n",
      "Epoch 2/25\n",
      "50000/50000 [==============================] - 8s 168us/step - loss: 15.8662 - acc: 0.1073 - val_loss: 5.1021 - val_acc: 0.1000\n",
      "Epoch 3/25\n",
      "50000/50000 [==============================] - 8s 169us/step - loss: 3.1983 - acc: 0.0971 - val_loss: 2.4711 - val_acc: 0.1000\n",
      "Epoch 4/25\n",
      "50000/50000 [==============================] - 9s 171us/step - loss: 2.4632 - acc: 0.0987 - val_loss: 2.4623 - val_acc: 0.1000\n",
      "Epoch 5/25\n",
      "50000/50000 [==============================] - 9s 171us/step - loss: 2.4625 - acc: 0.0976 - val_loss: 2.4624 - val_acc: 0.1000\n",
      "Epoch 6/25\n",
      "50000/50000 [==============================] - 10s 198us/step - loss: 2.4624 - acc: 0.0977 - val_loss: 2.4623 - val_acc: 0.1000\n",
      "Epoch 7/25\n",
      "50000/50000 [==============================] - 10s 198us/step - loss: 2.4624 - acc: 0.0973 - val_loss: 2.4623 - val_acc: 0.1000\n",
      "Epoch 8/25\n",
      "50000/50000 [==============================] - 11s 229us/step - loss: 2.4623 - acc: 0.0975 - val_loss: 2.4622 - val_acc: 0.1000\n",
      "Epoch 9/25\n",
      "50000/50000 [==============================] - 9s 174us/step - loss: 2.4623 - acc: 0.0962 - val_loss: 2.4623 - val_acc: 0.1000\n",
      "Epoch 10/25\n",
      "50000/50000 [==============================] - 8s 152us/step - loss: 2.4622 - acc: 0.0999 - val_loss: 2.4621 - val_acc: 0.1000\n",
      "Epoch 11/25\n",
      "50000/50000 [==============================] - 8s 152us/step - loss: 2.4622 - acc: 0.0987 - val_loss: 2.4621 - val_acc: 0.1000\n",
      "Epoch 12/25\n",
      "50000/50000 [==============================] - 8s 152us/step - loss: 2.4622 - acc: 0.0972 - val_loss: 2.4621 - val_acc: 0.1000\n",
      "Epoch 13/25\n",
      "50000/50000 [==============================] - 8s 151us/step - loss: 2.4621 - acc: 0.0976 - val_loss: 2.4621 - val_acc: 0.1000\n",
      "Epoch 14/25\n",
      "50000/50000 [==============================] - 8s 154us/step - loss: 2.4621 - acc: 0.0961 - val_loss: 2.4621 - val_acc: 0.1000\n",
      "Epoch 15/25\n",
      "50000/50000 [==============================] - 8s 153us/step - loss: 2.4621 - acc: 0.1003 - val_loss: 2.4620 - val_acc: 0.1000\n",
      "Epoch 16/25\n",
      "50000/50000 [==============================] - 8s 155us/step - loss: 2.4621 - acc: 0.0988 - val_loss: 2.4619 - val_acc: 0.1000\n",
      "Epoch 17/25\n",
      "50000/50000 [==============================] - 8s 156us/step - loss: 2.4620 - acc: 0.0978 - val_loss: 2.4619 - val_acc: 0.1000\n",
      "Epoch 18/25\n",
      "50000/50000 [==============================] - 8s 156us/step - loss: 2.4620 - acc: 0.0995 - val_loss: 2.4619 - val_acc: 0.1000\n",
      "Epoch 19/25\n",
      "50000/50000 [==============================] - 8s 155us/step - loss: 2.4620 - acc: 0.0966 - val_loss: 2.4619 - val_acc: 0.1000\n",
      "Epoch 20/25\n",
      "50000/50000 [==============================] - 8s 155us/step - loss: 2.4620 - acc: 0.0965 - val_loss: 2.4619 - val_acc: 0.1000\n",
      "Epoch 21/25\n",
      "50000/50000 [==============================] - 8s 155us/step - loss: 2.4620 - acc: 0.0990 - val_loss: 2.4619 - val_acc: 0.1000\n",
      "Epoch 22/25\n",
      "50000/50000 [==============================] - 8s 160us/step - loss: 2.4620 - acc: 0.0966 - val_loss: 2.4618 - val_acc: 0.1000\n",
      "Epoch 23/25\n",
      "50000/50000 [==============================] - 8s 162us/step - loss: 2.4620 - acc: 0.0963 - val_loss: 2.4619 - val_acc: 0.1000\n",
      "Epoch 24/25\n",
      "50000/50000 [==============================] - 8s 162us/step - loss: 2.4619 - acc: 0.0972 - val_loss: 2.4618 - val_acc: 0.1000\n",
      "Epoch 25/25\n",
      "50000/50000 [==============================] - 8s 158us/step - loss: 2.4619 - acc: 0.0961 - val_loss: 2.4618 - val_acc: 0.1000\n",
      "Experiment with Regulizer = 0.000100\n",
      "_________________________________________________________________\n",
      "Layer (type)                 Output Shape              Param #   \n",
      "=================================================================\n",
      "input_1 (InputLayer)         (None, 3072)              0         \n",
      "_________________________________________________________________\n",
      "hidden_layer1 (Dense)        (None, 512)               1573376   \n",
      "_________________________________________________________________\n",
      "hidden_layer2 (Dense)        (None, 256)               131328    \n",
      "_________________________________________________________________\n",
      "hidden_layer3 (Dense)        (None, 128)               32896     \n",
      "_________________________________________________________________\n",
      "output (Dense)               (None, 10)                1290      \n",
      "=================================================================\n",
      "Total params: 1,738,890\n",
      "Trainable params: 1,738,890\n",
      "Non-trainable params: 0\n",
      "_________________________________________________________________\n",
      "Train on 50000 samples, validate on 10000 samples\n",
      "Epoch 1/25\n",
      "50000/50000 [==============================] - 8s 165us/step - loss: 18.8315 - acc: 0.2638 - val_loss: 17.3752 - val_acc: 0.3288\n",
      "Epoch 2/25\n",
      "50000/50000 [==============================] - 8s 153us/step - loss: 16.1550 - acc: 0.3519 - val_loss: 14.9872 - val_acc: 0.3623\n",
      "Epoch 3/25\n",
      "50000/50000 [==============================] - 8s 152us/step - loss: 13.9682 - acc: 0.3756 - val_loss: 12.9864 - val_acc: 0.3830\n",
      "Epoch 4/25\n",
      "50000/50000 [==============================] - 8s 154us/step - loss: 12.1193 - acc: 0.3889 - val_loss: 11.2849 - val_acc: 0.3964\n",
      "Epoch 5/25\n",
      "50000/50000 [==============================] - 8s 153us/step - loss: 10.5470 - acc: 0.4006 - val_loss: 9.8358 - val_acc: 0.4048\n",
      "Epoch 6/25\n",
      "50000/50000 [==============================] - 8s 152us/step - loss: 9.2086 - acc: 0.4072 - val_loss: 8.6026 - val_acc: 0.4048\n",
      "Epoch 7/25\n",
      "50000/50000 [==============================] - 8s 154us/step - loss: 8.0678 - acc: 0.4104 - val_loss: 7.5494 - val_acc: 0.4087\n",
      "Epoch 8/25\n",
      "50000/50000 [==============================] - 8s 153us/step - loss: 7.0976 - acc: 0.4173 - val_loss: 6.6598 - val_acc: 0.4190\n",
      "Epoch 9/25\n",
      "50000/50000 [==============================] - 8s 152us/step - loss: 6.2694 - acc: 0.4226 - val_loss: 5.8907 - val_acc: 0.4271\n",
      "Epoch 10/25\n",
      "50000/50000 [==============================] - 8s 153us/step - loss: 5.5656 - acc: 0.4252 - val_loss: 5.2492 - val_acc: 0.4251\n",
      "Epoch 11/25\n",
      "50000/50000 [==============================] - 8s 153us/step - loss: 4.9670 - acc: 0.4276 - val_loss: 4.6931 - val_acc: 0.4300\n",
      "Epoch 12/25\n",
      "50000/50000 [==============================] - 8s 152us/step - loss: 4.4567 - acc: 0.4321 - val_loss: 4.2267 - val_acc: 0.4342\n",
      "Epoch 13/25\n",
      "50000/50000 [==============================] - 8s 153us/step - loss: 4.0234 - acc: 0.4351 - val_loss: 3.8332 - val_acc: 0.4307\n",
      "Epoch 14/25\n",
      "50000/50000 [==============================] - 8s 155us/step - loss: 3.6549 - acc: 0.4365 - val_loss: 3.5034 - val_acc: 0.4365\n",
      "Epoch 15/25\n",
      "50000/50000 [==============================] - 8s 154us/step - loss: 3.3436 - acc: 0.4390 - val_loss: 3.2128 - val_acc: 0.4377\n",
      "Epoch 16/25\n",
      "50000/50000 [==============================] - 8s 153us/step - loss: 3.0802 - acc: 0.4429 - val_loss: 2.9804 - val_acc: 0.4302\n",
      "Epoch 17/25\n",
      "50000/50000 [==============================] - 8s 156us/step - loss: 2.8590 - acc: 0.4428 - val_loss: 2.7635 - val_acc: 0.4408\n",
      "Epoch 18/25\n",
      "50000/50000 [==============================] - 8s 155us/step - loss: 2.6715 - acc: 0.4473 - val_loss: 2.6016 - val_acc: 0.4417\n",
      "Epoch 19/25\n",
      "50000/50000 [==============================] - 8s 159us/step - loss: 2.5164 - acc: 0.4496 - val_loss: 2.4538 - val_acc: 0.4437\n",
      "Epoch 20/25\n",
      "50000/50000 [==============================] - 8s 156us/step - loss: 2.3874 - acc: 0.4494 - val_loss: 2.3345 - val_acc: 0.4454\n",
      "Epoch 21/25\n",
      "50000/50000 [==============================] - 8s 158us/step - loss: 2.2813 - acc: 0.4506 - val_loss: 2.2466 - val_acc: 0.4409\n",
      "Epoch 22/25\n",
      "50000/50000 [==============================] - 8s 156us/step - loss: 2.1941 - acc: 0.4517 - val_loss: 2.1736 - val_acc: 0.4412\n",
      "Epoch 23/25\n",
      "50000/50000 [==============================] - 8s 156us/step - loss: 2.1224 - acc: 0.4526 - val_loss: 2.1015 - val_acc: 0.4477\n",
      "Epoch 24/25\n",
      "50000/50000 [==============================] - 8s 156us/step - loss: 2.0652 - acc: 0.4533 - val_loss: 2.0437 - val_acc: 0.4519\n",
      "Epoch 25/25\n",
      "50000/50000 [==============================] - 8s 158us/step - loss: 2.0190 - acc: 0.4523 - val_loss: 2.0104 - val_acc: 0.4472\n",
      "Experiment with Regulizer = 0.000000\n",
      "_________________________________________________________________\n",
      "Layer (type)                 Output Shape              Param #   \n",
      "=================================================================\n",
      "input_1 (InputLayer)         (None, 3072)              0         \n",
      "_________________________________________________________________\n",
      "hidden_layer1 (Dense)        (None, 512)               1573376   \n",
      "_________________________________________________________________\n",
      "hidden_layer2 (Dense)        (None, 256)               131328    \n",
      "_________________________________________________________________\n",
      "hidden_layer3 (Dense)        (None, 128)               32896     \n",
      "_________________________________________________________________\n",
      "output (Dense)               (None, 10)                1290      \n",
      "=================================================================\n",
      "Total params: 1,738,890\n",
      "Trainable params: 1,738,890\n",
      "Non-trainable params: 0\n",
      "_________________________________________________________________\n"
     ]
    },
    {
     "name": "stdout",
     "output_type": "stream",
     "text": [
      "Train on 50000 samples, validate on 10000 samples\n",
      "Epoch 1/25\n",
      "50000/50000 [==============================] - 9s 176us/step - loss: 15.0955 - acc: 0.2746 - val_loss: 13.9660 - val_acc: 0.3368\n",
      "Epoch 2/25\n",
      "50000/50000 [==============================] - 8s 166us/step - loss: 13.0293 - acc: 0.3615 - val_loss: 12.1393 - val_acc: 0.3739\n",
      "Epoch 3/25\n",
      "50000/50000 [==============================] - 9s 182us/step - loss: 11.3563 - acc: 0.3851 - val_loss: 10.6061 - val_acc: 0.3953\n",
      "Epoch 4/25\n",
      "50000/50000 [==============================] - 9s 185us/step - loss: 9.9423 - acc: 0.3994 - val_loss: 9.3034 - val_acc: 0.4002\n",
      "Epoch 5/25\n",
      "50000/50000 [==============================] - 9s 176us/step - loss: 8.7414 - acc: 0.4097 - val_loss: 8.1961 - val_acc: 0.4183\n",
      "Epoch 6/25\n",
      "50000/50000 [==============================] - 9s 173us/step - loss: 7.7156 - acc: 0.4186 - val_loss: 7.2617 - val_acc: 0.4128\n",
      "Epoch 7/25\n",
      "50000/50000 [==============================] - 8s 159us/step - loss: 6.8440 - acc: 0.4234 - val_loss: 6.4615 - val_acc: 0.4224\n",
      "Epoch 8/25\n",
      "50000/50000 [==============================] - 8s 161us/step - loss: 6.0976 - acc: 0.4306 - val_loss: 5.7606 - val_acc: 0.4310\n",
      "Epoch 9/25\n",
      "50000/50000 [==============================] - 8s 157us/step - loss: 5.4609 - acc: 0.4356 - val_loss: 5.1775 - val_acc: 0.4367\n",
      "Epoch 10/25\n",
      "50000/50000 [==============================] - 8s 160us/step - loss: 4.9185 - acc: 0.4392 - val_loss: 4.6737 - val_acc: 0.4422\n",
      "Epoch 11/25\n",
      "50000/50000 [==============================] - 8s 155us/step - loss: 4.4525 - acc: 0.4440 - val_loss: 4.2428 - val_acc: 0.4442\n",
      "Epoch 12/25\n",
      "50000/50000 [==============================] - 8s 161us/step - loss: 4.0533 - acc: 0.4485 - val_loss: 3.8786 - val_acc: 0.4444\n",
      "Epoch 13/25\n",
      "50000/50000 [==============================] - 8s 158us/step - loss: 3.7132 - acc: 0.4535 - val_loss: 3.5655 - val_acc: 0.4438\n",
      "Epoch 14/25\n",
      "50000/50000 [==============================] - 8s 158us/step - loss: 3.4203 - acc: 0.4555 - val_loss: 3.3134 - val_acc: 0.4418\n",
      "Epoch 15/25\n",
      "50000/50000 [==============================] - 8s 156us/step - loss: 3.1703 - acc: 0.4582 - val_loss: 3.0698 - val_acc: 0.4562\n",
      "Epoch 16/25\n",
      "50000/50000 [==============================] - 8s 157us/step - loss: 2.9561 - acc: 0.4602 - val_loss: 2.8756 - val_acc: 0.4506\n",
      "Epoch 17/25\n",
      "50000/50000 [==============================] - 8s 158us/step - loss: 2.7720 - acc: 0.4647 - val_loss: 2.7021 - val_acc: 0.4586\n",
      "Epoch 18/25\n",
      "50000/50000 [==============================] - 8s 157us/step - loss: 2.6139 - acc: 0.4664 - val_loss: 2.5688 - val_acc: 0.4559\n",
      "Epoch 19/25\n",
      "50000/50000 [==============================] - 8s 158us/step - loss: 2.4805 - acc: 0.4714 - val_loss: 2.4331 - val_acc: 0.4642\n",
      "Epoch 20/25\n",
      "50000/50000 [==============================] - 8s 158us/step - loss: 2.3633 - acc: 0.4725 - val_loss: 2.3431 - val_acc: 0.4647\n",
      "Epoch 21/25\n",
      "50000/50000 [==============================] - 8s 157us/step - loss: 2.2627 - acc: 0.4759 - val_loss: 2.2511 - val_acc: 0.4657\n",
      "Epoch 22/25\n",
      "50000/50000 [==============================] - 8s 158us/step - loss: 2.1775 - acc: 0.4773 - val_loss: 2.1660 - val_acc: 0.4647\n",
      "Epoch 23/25\n",
      "50000/50000 [==============================] - 8s 157us/step - loss: 2.1034 - acc: 0.4814 - val_loss: 2.1009 - val_acc: 0.4692\n",
      "Epoch 24/25\n",
      "50000/50000 [==============================] - 8s 158us/step - loss: 2.0389 - acc: 0.4826 - val_loss: 2.0522 - val_acc: 0.4621\n",
      "Epoch 25/25\n",
      "50000/50000 [==============================] - 8s 157us/step - loss: 1.9839 - acc: 0.4837 - val_loss: 1.9844 - val_acc: 0.4816\n"
     ]
    }
   ],
   "source": [
    "results = {}\n",
    "\"\"\"Code Here\n",
    "撰寫你的訓練流程並將結果用 dictionary 紀錄\n",
    "\"\"\"\n",
    "for regulizer_ratio in L1_L2_EXP:\n",
    "    keras.backend.clear_session() # 把舊的 Graph 清掉\n",
    "    print(\"Experiment with Regulizer = %.6f\" % (regulizer_ratio))\n",
    "    model = build_mlp(input_shape=x_train.shape[1:], l1_l2_ratio=regulizer_ratio)\n",
    "    model.summary()\n",
    "    optimizer = keras.optimizers.SGD(lr=LEARNING_RATE, nesterov=True, momentum=MOMENTUM)\n",
    "    model.compile(loss=\"categorical_crossentropy\", metrics=[\"accuracy\"], optimizer=optimizer)\n",
    "\n",
    "    model.fit(x_train, y_train, \n",
    "              epochs=EPOCHS, \n",
    "              batch_size=BATCH_SIZE, \n",
    "              validation_data=(x_test, y_test), \n",
    "              shuffle=True)\n",
    "    \n",
    "    # Collect results\n",
    "    train_loss = model.history.history[\"loss\"]\n",
    "    valid_loss = model.history.history[\"val_loss\"]\n",
    "    train_acc = model.history.history[\"acc\"]\n",
    "    valid_acc = model.history.history[\"val_acc\"]\n",
    "    \n",
    "    exp_name_tag = \"exp-l1_l2-%s\" % str(regulizer_ratio)\n",
    "    results[exp_name_tag] = {'train-loss': train_loss,\n",
    "                             'valid-loss': valid_loss,\n",
    "                             'train-acc': train_acc,\n",
    "                             'valid-acc': valid_acc}"
   ]
  },
  {
   "cell_type": "code",
   "execution_count": 15,
   "metadata": {},
   "outputs": [
    {
     "data": {
      "image/png": "[encoded data removed]",
      "text/plain": [
       "<Figure size 576x432 with 1 Axes>"
      ]
     },
     "metadata": {
      "needs_background": "light"
     },
     "output_type": "display_data"
    },
    {
     "data": {
      "image/png": "[encoded data removed]",
      "text/plain": [
       "<Figure size 576x432 with 1 Axes>"
      ]
     },
     "metadata": {
      "needs_background": "light"
     },
     "output_type": "display_data"
    }
   ],
   "source": [
    "import matplotlib.pyplot as plt\n",
    "%matplotlib inline\n",
    "\"\"\"Code Here\n",
    "將結果繪出\n",
    "\"\"\"\n",
    "color_bar = [\"r\", \"g\", \"b\", \"y\", \"m\", \"k\"]\n",
    "\n",
    "plt.figure(figsize=(8,6))\n",
    "for i, cond in enumerate(results.keys()):\n",
    "    plt.plot(range(len(results[cond]['train-loss'])),results[cond]['train-loss'], '-', label=cond, color=color_bar[i])\n",
    "    plt.plot(range(len(results[cond]['valid-loss'])),results[cond]['valid-loss'], '--', label=cond, color=color_bar[i])\n",
    "plt.title(\"Loss\")\n",
    "plt.ylim([0, 5])\n",
    "plt.legend()\n",
    "plt.show()\n",
    "\n",
    "plt.figure(figsize=(8,6))\n",
    "for i, cond in enumerate(results.keys()):\n",
    "    plt.plot(range(len(results[cond]['train-acc'])),results[cond]['train-acc'], '-', label=cond, color=color_bar[i])\n",
    "    plt.plot(range(len(results[cond]['valid-acc'])),results[cond]['valid-acc'], '--', label=cond, color=color_bar[i])\n",
    "plt.title(\"Accuracy\")\n",
    "plt.legend()\n",
    "plt.show()"
   ]
  },
  {
   "cell_type": "code",
   "execution_count": null,
   "metadata": {},
   "outputs": [],
   "source": []
  }
 ],
 "metadata": {
  "kernelspec": {
   "display_name": "Python 3",
   "language": "python",
   "name": "python3"
  },
  "language_info": {
   "codemirror_mode": {
    "name": "ipython",
    "version": 3
   },
   "file_extension": ".py",
   "mimetype": "text/x-python",
   "name": "python",
   "nbconvert_exporter": "python",
   "pygments_lexer": "ipython3",
   "version": "3.7.3"
  }
 },
 "nbformat": 4,
 "nbformat_minor": 2
}
