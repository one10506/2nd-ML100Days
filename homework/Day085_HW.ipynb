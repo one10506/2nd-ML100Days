{
 "cells": [
  {
   "cell_type": "markdown",
   "metadata": {},
   "source": [
    "## Work\n",
    "1. 試改變 monitor \"Validation Accuracy\" 並比較結果\n",
    "2. 調整 earlystop 的等待次數至 10, 25 並比較結果"
   ]
  },
  {
   "cell_type": "code",
   "execution_count": 1,
   "metadata": {},
   "outputs": [
    {
     "name": "stderr",
     "output_type": "stream",
     "text": [
      "Using TensorFlow backend.\n"
     ]
    }
   ],
   "source": [
    "import os\n",
    "import keras\n",
    "import matplotlib.pyplot as plt\n",
    "%matplotlib inline\n",
    "\n",
    "\n",
    "# Disable GPU\n",
    "os.environ[\"CUDA_VISIBLE_DEVICES\"] = \"\""
   ]
  },
  {
   "cell_type": "code",
   "execution_count": 2,
   "metadata": {},
   "outputs": [],
   "source": [
    "train, test = keras.datasets.cifar10.load_data()"
   ]
  },
  {
   "cell_type": "code",
   "execution_count": 3,
   "metadata": {},
   "outputs": [],
   "source": [
    "## 資料前處理\n",
    "def preproc_x(x, flatten=True):\n",
    "    x = x / 255.\n",
    "    if flatten:\n",
    "        x = x.reshape((len(x), -1))\n",
    "    return x\n",
    "\n",
    "def preproc_y(y, num_classes=10):\n",
    "    if y.shape[-1] == 1:\n",
    "        y = keras.utils.to_categorical(y, num_classes)\n",
    "    return y    "
   ]
  },
  {
   "cell_type": "code",
   "execution_count": 4,
   "metadata": {},
   "outputs": [],
   "source": [
    "x_train, y_train = train\n",
    "x_test, y_test = test\n",
    "\n",
    "# Preproc the inputs\n",
    "x_train = preproc_x(x_train)\n",
    "x_test = preproc_x(x_test)\n",
    "\n",
    "# Preprc the outputs\n",
    "y_train = preproc_y(y_train)\n",
    "y_test = preproc_y(y_test)"
   ]
  },
  {
   "cell_type": "code",
   "execution_count": 5,
   "metadata": {},
   "outputs": [],
   "source": [
    "from keras.layers import BatchNormalization\n",
    "\n",
    "\"\"\"\n",
    "建立神經網路，並加入 BN layer\n",
    "\"\"\"\n",
    "def build_mlp(input_shape, output_units=10, num_neurons=[512, 256, 128]):\n",
    "    input_layer = keras.layers.Input(input_shape)\n",
    "    \n",
    "    for i, n_units in enumerate(num_neurons):\n",
    "        if i == 0:\n",
    "            x = keras.layers.Dense(units=n_units, \n",
    "                                   activation=\"relu\", \n",
    "                                   name=\"hidden_layer\"+str(i+1))(input_layer)\n",
    "            x = BatchNormalization()(x)\n",
    "        else:\n",
    "            x = keras.layers.Dense(units=n_units, \n",
    "                                   activation=\"relu\", \n",
    "                                   name=\"hidden_layer\"+str(i+1))(x)\n",
    "            x = BatchNormalization()(x)\n",
    "    \n",
    "    out = keras.layers.Dense(units=output_units, activation=\"softmax\", name=\"output\")(x)\n",
    "    \n",
    "    model = keras.models.Model(inputs=[input_layer], outputs=[out])\n",
    "    return model"
   ]
  },
  {
   "cell_type": "code",
   "execution_count": 6,
   "metadata": {},
   "outputs": [],
   "source": [
    "\"\"\"Code Here\n",
    "設定超參數\n",
    "\"\"\"\n",
    "LEARNING_RATE = 1e-3\n",
    "EPOCHS = 50\n",
    "BATCH_SIZE = 1024\n",
    "MOMENTUM = 0.95"
   ]
  },
  {
   "cell_type": "code",
   "execution_count": 8,
   "metadata": {},
   "outputs": [
    {
     "name": "stderr",
     "output_type": "stream",
     "text": [
      "WARNING: Logging before flag parsing goes to stderr.\n",
      "W0725 15:19:02.241424 13668 deprecation_wrapper.py:119] From C:\\Users\\user\\Anaconda3\\lib\\site-packages\\keras\\backend\\tensorflow_backend.py:74: The name tf.get_default_graph is deprecated. Please use tf.compat.v1.get_default_graph instead.\n",
      "\n",
      "W0725 15:19:02.282961 13668 deprecation_wrapper.py:119] From C:\\Users\\user\\Anaconda3\\lib\\site-packages\\keras\\backend\\tensorflow_backend.py:517: The name tf.placeholder is deprecated. Please use tf.compat.v1.placeholder instead.\n",
      "\n",
      "W0725 15:19:02.286467 13668 deprecation_wrapper.py:119] From C:\\Users\\user\\Anaconda3\\lib\\site-packages\\keras\\backend\\tensorflow_backend.py:4138: The name tf.random_uniform is deprecated. Please use tf.random.uniform instead.\n",
      "\n",
      "W0725 15:19:02.360862 13668 deprecation_wrapper.py:119] From C:\\Users\\user\\Anaconda3\\lib\\site-packages\\keras\\backend\\tensorflow_backend.py:133: The name tf.placeholder_with_default is deprecated. Please use tf.compat.v1.placeholder_with_default instead.\n",
      "\n",
      "W0725 15:19:02.576623 13668 deprecation_wrapper.py:119] From C:\\Users\\user\\Anaconda3\\lib\\site-packages\\keras\\optimizers.py:790: The name tf.train.Optimizer is deprecated. Please use tf.compat.v1.train.Optimizer instead.\n",
      "\n",
      "W0725 15:19:02.583541 13668 deprecation_wrapper.py:119] From C:\\Users\\user\\Anaconda3\\lib\\site-packages\\keras\\backend\\tensorflow_backend.py:3295: The name tf.log is deprecated. Please use tf.math.log instead.\n",
      "\n",
      "W0725 15:19:02.668851 13668 deprecation.py:323] From C:\\Users\\user\\Anaconda3\\lib\\site-packages\\tensorflow\\python\\ops\\math_grad.py:1250: add_dispatch_support.<locals>.wrapper (from tensorflow.python.ops.array_ops) is deprecated and will be removed in a future version.\n",
      "Instructions for updating:\n",
      "Use tf.where in 2.0, which has the same broadcast rule as np.where\n"
     ]
    },
    {
     "name": "stdout",
     "output_type": "stream",
     "text": [
      "_________________________________________________________________\n",
      "Layer (type)                 Output Shape              Param #   \n",
      "=================================================================\n",
      "input_1 (InputLayer)         (None, 3072)              0         \n",
      "_________________________________________________________________\n",
      "hidden_layer1 (Dense)        (None, 512)               1573376   \n",
      "_________________________________________________________________\n",
      "batch_normalization_1 (Batch (None, 512)               2048      \n",
      "_________________________________________________________________\n",
      "hidden_layer2 (Dense)        (None, 256)               131328    \n",
      "_________________________________________________________________\n",
      "batch_normalization_2 (Batch (None, 256)               1024      \n",
      "_________________________________________________________________\n",
      "hidden_layer3 (Dense)        (None, 128)               32896     \n",
      "_________________________________________________________________\n",
      "batch_normalization_3 (Batch (None, 128)               512       \n",
      "_________________________________________________________________\n",
      "output (Dense)               (None, 10)                1290      \n",
      "=================================================================\n",
      "Total params: 1,742,474\n",
      "Trainable params: 1,740,682\n",
      "Non-trainable params: 1,792\n",
      "_________________________________________________________________\n",
      "Train on 50000 samples, validate on 10000 samples\n",
      "Epoch 1/50\n",
      "50000/50000 [==============================] - 6s 125us/step - loss: 2.2122 - acc: 0.2729 - val_loss: 2.1075 - val_acc: 0.3128\n",
      "Epoch 2/50\n",
      " 2048/50000 [>.............................] - ETA: 4s - loss: 1.8554 - acc: 0.3652"
     ]
    },
    {
     "name": "stderr",
     "output_type": "stream",
     "text": [
      "C:\\Users\\user\\Anaconda3\\lib\\site-packages\\keras\\callbacks.py:569: RuntimeWarning: Early stopping conditioned on metric `Validation Accuracy` which is not available. Available metrics are: val_loss,val_acc,loss,acc\n",
      "  (self.monitor, ','.join(list(logs.keys()))), RuntimeWarning\n"
     ]
    },
    {
     "name": "stdout",
     "output_type": "stream",
     "text": [
      "50000/50000 [==============================] - 5s 100us/step - loss: 1.7419 - acc: 0.3942 - val_loss: 1.7882 - val_acc: 0.3852\n",
      "Epoch 3/50\n",
      "50000/50000 [==============================] - 5s 100us/step - loss: 1.6173 - acc: 0.4352 - val_loss: 1.6991 - val_acc: 0.4073\n",
      "Epoch 4/50\n",
      "50000/50000 [==============================] - 5s 96us/step - loss: 1.5453 - acc: 0.4629 - val_loss: 1.6342 - val_acc: 0.4232\n",
      "Epoch 5/50\n",
      "50000/50000 [==============================] - 5s 97us/step - loss: 1.4890 - acc: 0.4819 - val_loss: 1.5906 - val_acc: 0.4346\n",
      "Epoch 6/50\n",
      "50000/50000 [==============================] - 5s 96us/step - loss: 1.4451 - acc: 0.4979 - val_loss: 1.5739 - val_acc: 0.4402\n",
      "Epoch 7/50\n",
      "50000/50000 [==============================] - 5s 95us/step - loss: 1.4077 - acc: 0.5111 - val_loss: 1.5544 - val_acc: 0.4515\n",
      "Epoch 8/50\n",
      "50000/50000 [==============================] - 5s 96us/step - loss: 1.3705 - acc: 0.5231 - val_loss: 1.5371 - val_acc: 0.4591\n",
      "Epoch 9/50\n",
      "50000/50000 [==============================] - 5s 95us/step - loss: 1.3393 - acc: 0.5350 - val_loss: 1.5257 - val_acc: 0.4618\n",
      "Epoch 10/50\n",
      "50000/50000 [==============================] - 5s 96us/step - loss: 1.3102 - acc: 0.5455 - val_loss: 1.5255 - val_acc: 0.4651\n",
      "Epoch 11/50\n",
      "50000/50000 [==============================] - 5s 96us/step - loss: 1.2818 - acc: 0.5564 - val_loss: 1.4833 - val_acc: 0.4777\n",
      "Epoch 12/50\n",
      "50000/50000 [==============================] - 5s 96us/step - loss: 1.2535 - acc: 0.5676 - val_loss: 1.5021 - val_acc: 0.4666\n",
      "Epoch 13/50\n",
      "50000/50000 [==============================] - 5s 96us/step - loss: 1.2305 - acc: 0.5755 - val_loss: 1.4837 - val_acc: 0.4753oss: 1.2273 - ETA: 0s - loss: 1.2297 - acc: \n",
      "Epoch 14/50\n",
      "50000/50000 [==============================] - 5s 95us/step - loss: 1.2035 - acc: 0.5836 - val_loss: 1.4921 - val_acc: 0.47262028 - ac\n",
      "Epoch 15/50\n",
      "50000/50000 [==============================] - 5s 95us/step - loss: 1.1791 - acc: 0.5946 - val_loss: 1.4646 - val_acc: 0.4858\n",
      "Epoch 16/50\n",
      "50000/50000 [==============================] - 5s 96us/step - loss: 1.1562 - acc: 0.6034 - val_loss: 1.4638 - val_acc: 0.4871\n",
      "Epoch 17/50\n",
      "50000/50000 [==============================] - 5s 95us/step - loss: 1.1344 - acc: 0.6115 - val_loss: 1.4626 - val_acc: 0.4858\n",
      "Epoch 18/50\n",
      "50000/50000 [==============================] - 5s 95us/step - loss: 1.1122 - acc: 0.6192 - val_loss: 1.4558 - val_acc: 0.4913\n",
      "Epoch 19/50\n",
      "50000/50000 [==============================] - 5s 95us/step - loss: 1.0931 - acc: 0.6274 - val_loss: 1.4833 - val_acc: 0.4787\n",
      "Epoch 20/50\n",
      "50000/50000 [==============================] - 5s 96us/step - loss: 1.0704 - acc: 0.6355 - val_loss: 1.4649 - val_acc: 0.4905\n",
      "Epoch 21/50\n",
      "50000/50000 [==============================] - 5s 95us/step - loss: 1.0503 - acc: 0.6431 - val_loss: 1.4515 - val_acc: 0.4913\n",
      "Epoch 22/50\n",
      "50000/50000 [==============================] - 5s 96us/step - loss: 1.0268 - acc: 0.6531 - val_loss: 1.4585 - val_acc: 0.4930\n",
      "Epoch 23/50\n",
      "50000/50000 [==============================] - 5s 97us/step - loss: 1.0063 - acc: 0.6610 - val_loss: 1.4504 - val_acc: 0.4989\n",
      "Epoch 24/50\n",
      "50000/50000 [==============================] - 5s 96us/step - loss: 0.9875 - acc: 0.6665 - val_loss: 1.4498 - val_acc: 0.4948\n",
      "Epoch 25/50\n",
      "50000/50000 [==============================] - 5s 96us/step - loss: 0.9665 - acc: 0.6777 - val_loss: 1.4652 - val_acc: 0.4935\n",
      "Epoch 26/50\n",
      "50000/50000 [==============================] - 5s 96us/step - loss: 0.9470 - acc: 0.6832 - val_loss: 1.4774 - val_acc: 0.4944\n",
      "Epoch 27/50\n",
      "50000/50000 [==============================] - 5s 96us/step - loss: 0.9285 - acc: 0.6900 - val_loss: 1.4822 - val_acc: 0.4945\n",
      "Epoch 28/50\n",
      "50000/50000 [==============================] - 5s 95us/step - loss: 0.9081 - acc: 0.6988 - val_loss: 1.4635 - val_acc: 0.5000\n",
      "Epoch 29/50\n",
      "50000/50000 [==============================] - 5s 99us/step - loss: 0.8887 - acc: 0.7061 - val_loss: 1.4697 - val_acc: 0.4958\n",
      "Epoch 30/50\n",
      "50000/50000 [==============================] - 5s 95us/step - loss: 0.8686 - acc: 0.7140 - val_loss: 1.4720 - val_acc: 0.4990\n",
      "Epoch 31/50\n",
      "50000/50000 [==============================] - 5s 95us/step - loss: 0.8506 - acc: 0.7204 - val_loss: 1.4880 - val_acc: 0.4967\n",
      "Epoch 32/50\n",
      "50000/50000 [==============================] - 5s 96us/step - loss: 0.8315 - acc: 0.7282 - val_loss: 1.4825 - val_acc: 0.4970\n",
      "Epoch 33/50\n",
      "50000/50000 [==============================] - 5s 96us/step - loss: 0.8139 - acc: 0.7352 - val_loss: 1.5025 - val_acc: 0.4915\n",
      "Epoch 34/50\n",
      "50000/50000 [==============================] - 5s 96us/step - loss: 0.7944 - acc: 0.7433 - val_loss: 1.4965 - val_acc: 0.4955\n",
      "Epoch 35/50\n",
      "50000/50000 [==============================] - 5s 95us/step - loss: 0.7750 - acc: 0.7493 - val_loss: 1.5195 - val_acc: 0.4975\n",
      "Epoch 36/50\n",
      "50000/50000 [==============================] - 5s 96us/step - loss: 0.7578 - acc: 0.7576 - val_loss: 1.5319 - val_acc: 0.4874\n",
      "Epoch 37/50\n",
      "50000/50000 [==============================] - 5s 96us/step - loss: 0.7371 - acc: 0.7640 - val_loss: 1.5221 - val_acc: 0.4969\n",
      "Epoch 38/50\n",
      "50000/50000 [==============================] - 5s 96us/step - loss: 0.7202 - acc: 0.7715 - val_loss: 1.5341 - val_acc: 0.4937\n",
      "Epoch 39/50\n",
      "50000/50000 [==============================] - 5s 95us/step - loss: 0.7011 - acc: 0.7805 - val_loss: 1.5418 - val_acc: 0.4894\n",
      "Epoch 40/50\n",
      "50000/50000 [==============================] - 5s 95us/step - loss: 0.6832 - acc: 0.7868 - val_loss: 1.5467 - val_acc: 0.4935\n",
      "Epoch 41/50\n",
      "50000/50000 [==============================] - 5s 95us/step - loss: 0.6644 - acc: 0.7941 - val_loss: 1.5699 - val_acc: 0.4904\n",
      "Epoch 42/50\n",
      "50000/50000 [==============================] - 5s 95us/step - loss: 0.6484 - acc: 0.8004 - val_loss: 1.5762 - val_acc: 0.4923\n",
      "Epoch 43/50\n",
      "50000/50000 [==============================] - 5s 95us/step - loss: 0.6292 - acc: 0.8087 - val_loss: 1.5770 - val_acc: 0.4903\n",
      "Epoch 44/50\n",
      "50000/50000 [==============================] - 5s 96us/step - loss: 0.6117 - acc: 0.8161 - val_loss: 1.5943 - val_acc: 0.4900\n",
      "Epoch 45/50\n",
      "50000/50000 [==============================] - 5s 97us/step - loss: 0.5945 - acc: 0.8215 - val_loss: 1.5978 - val_acc: 0.4902\n",
      "Epoch 46/50\n",
      "50000/50000 [==============================] - 5s 96us/step - loss: 0.5774 - acc: 0.8283 - val_loss: 1.6102 - val_acc: 0.4904\n",
      "Epoch 47/50\n",
      "50000/50000 [==============================] - 5s 96us/step - loss: 0.5611 - acc: 0.8354 - val_loss: 1.6546 - val_acc: 0.4873\n",
      "Epoch 48/50\n",
      "50000/50000 [==============================] - 5s 96us/step - loss: 0.5438 - acc: 0.8429 - val_loss: 1.6375 - val_acc: 0.4949\n",
      "Epoch 49/50\n",
      "50000/50000 [==============================] - 5s 96us/step - loss: 0.5290 - acc: 0.8497 - val_loss: 1.6522 - val_acc: 0.4894\n",
      "Epoch 50/50\n",
      "50000/50000 [==============================] - 5s 95us/step - loss: 0.5107 - acc: 0.8568 - val_loss: 1.6709 - val_acc: 0.4887\n"
     ]
    }
   ],
   "source": [
    "# 載入 Callbacks\n",
    "\"\"\"Code Here\n",
    "設定 callbacks: Earlystop\n",
    "\"\"\"\n",
    "from keras.callbacks import EarlyStopping\n",
    "\n",
    "earlystop = EarlyStopping(monitor=\"Validation Accuracy\", \n",
    "                          patience=10, \n",
    "                          verbose=1\n",
    "                          )\n",
    "results = {}\n",
    "\"\"\"Code Here\n",
    "撰寫你的訓練流程並將結果用 dictionary 紀錄\n",
    "\"\"\"\n",
    "model = build_mlp(input_shape=x_train.shape[1:])\n",
    "model.summary()\n",
    "optimizer = keras.optimizers.SGD(lr=LEARNING_RATE, nesterov=True, momentum=MOMENTUM)\n",
    "model.compile(loss=\"categorical_crossentropy\", metrics=[\"accuracy\"], optimizer=optimizer)\n",
    "\n",
    "model.fit(x_train, y_train, \n",
    "          epochs=EPOCHS, \n",
    "          batch_size=BATCH_SIZE, \n",
    "          validation_data=(x_test, y_test), \n",
    "          shuffle=True,\n",
    "          callbacks=[earlystop]\n",
    "         )\n",
    "\n",
    "# Collect results\n",
    "train_loss = model.history.history[\"loss\"]\n",
    "valid_loss = model.history.history[\"val_loss\"]\n",
    "train_acc = model.history.history[\"acc\"]\n",
    "valid_acc = model.history.history[\"val_acc\"]"
   ]
  },
  {
   "cell_type": "code",
   "execution_count": 9,
   "metadata": {},
   "outputs": [
    {
     "data": {
      "image/png": "[encoded data removed]",
      "text/plain": [
       "<Figure size 432x288 with 1 Axes>"
      ]
     },
     "metadata": {
      "needs_background": "light"
     },
     "output_type": "display_data"
    },
    {
     "data": {
      "image/png": "[encoded data removed]",
      "text/plain": [
       "<Figure size 432x288 with 1 Axes>"
      ]
     },
     "metadata": {
      "needs_background": "light"
     },
     "output_type": "display_data"
    }
   ],
   "source": [
    "import matplotlib.pyplot as plt\n",
    "%matplotlib inline\n",
    "\"\"\"Code Here\n",
    "將結果繪出\n",
    "\"\"\"\n",
    "plt.plot(range(len(train_loss)), train_loss, label=\"train loss\")\n",
    "plt.plot(range(len(valid_loss)), valid_loss, label=\"valid loss\")\n",
    "plt.legend()\n",
    "plt.title(\"Loss\")\n",
    "plt.show()\n",
    "\n",
    "plt.plot(range(len(train_acc)), train_acc, label=\"train accuracy\")\n",
    "plt.plot(range(len(valid_acc)), valid_acc, label=\"valid accuracy\")\n",
    "plt.legend()\n",
    "plt.title(\"Accuracy\")\n",
    "plt.show()\n"
   ]
  },
  {
   "cell_type": "code",
   "execution_count": null,
   "metadata": {},
   "outputs": [],
   "source": []
  }
 ],
 "metadata": {
  "kernelspec": {
   "display_name": "Python 3",
   "language": "python",
   "name": "python3"
  },
  "language_info": {
   "codemirror_mode": {
    "name": "ipython",
    "version": 3
   },
   "file_extension": ".py",
   "mimetype": "text/x-python",
   "name": "python",
   "nbconvert_exporter": "python",
   "pygments_lexer": "ipython3",
   "version": "3.7.3"
  }
 },
 "nbformat": 4,
 "nbformat_minor": 2
}
