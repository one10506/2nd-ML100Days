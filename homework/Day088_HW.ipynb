{
 "cells": [
  {
   "cell_type": "markdown",
   "metadata": {},
   "source": [
    "## Work\n",
    "1. 請嘗試寫一個 callback 用來記錄各類別在訓練過程中，對驗證集的 True Positive 與 True Negative"
   ]
  },
  {
   "cell_type": "code",
   "execution_count": 1,
   "metadata": {},
   "outputs": [
    {
     "name": "stderr",
     "output_type": "stream",
     "text": [
      "Using TensorFlow backend.\n"
     ]
    }
   ],
   "source": [
    "import os\n",
    "import keras\n",
    "\n",
    "# Disable GPU\n",
    "os.environ[\"CUDA_VISIBLE_DEVICES\"] = \"\""
   ]
  },
  {
   "cell_type": "code",
   "execution_count": 2,
   "metadata": {},
   "outputs": [],
   "source": [
    "train, test = keras.datasets.cifar10.load_data()"
   ]
  },
  {
   "cell_type": "code",
   "execution_count": 3,
   "metadata": {},
   "outputs": [],
   "source": [
    "## 資料前處理\n",
    "def preproc_x(x, flatten=True):\n",
    "    x = x / 255.\n",
    "    if flatten:\n",
    "        x = x.reshape((len(x), -1))\n",
    "    return x\n",
    "\n",
    "def preproc_y(y, num_classes=10):\n",
    "    if y.shape[-1] == 1:\n",
    "        y = keras.utils.to_categorical(y, num_classes)\n",
    "    return y    "
   ]
  },
  {
   "cell_type": "code",
   "execution_count": 4,
   "metadata": {},
   "outputs": [],
   "source": [
    "x_train, y_train = train\n",
    "x_test, y_test = test\n",
    "\n",
    "# Preproc the inputs\n",
    "x_train = preproc_x(x_train)\n",
    "x_test = preproc_x(x_test)\n",
    "\n",
    "# Preprc the outputs\n",
    "y_train = preproc_y(y_train)\n",
    "y_test = preproc_y(y_test)"
   ]
  },
  {
   "cell_type": "code",
   "execution_count": 5,
   "metadata": {},
   "outputs": [],
   "source": [
    "from keras.layers import BatchNormalization\n",
    "def build_mlp(input_shape, output_units=10, num_neurons=[256, 256, 256]):\n",
    "    \"\"\"Code Here\n",
    "    建立你的神經網路\n",
    "    \"\"\"\n",
    "    input_layer = keras.layers.Input(input_shape)\n",
    "    \n",
    "    for i, n_units in enumerate(num_neurons):\n",
    "        if i == 0:\n",
    "            x = keras.layers.Dense(units=n_units, \n",
    "                                   activation=\"relu\", \n",
    "                                   name=\"hidden_layer\"+str(i+1))(input_layer)\n",
    "            x = BatchNormalization()(x)\n",
    "        else:\n",
    "            x = keras.layers.Dense(units=n_units, \n",
    "                                   activation=\"relu\", \n",
    "                                   name=\"hidden_layer\"+str(i+1))(x)\n",
    "            x = BatchNormalization()(x)\n",
    "    \n",
    "    out = keras.layers.Dense(units=output_units, activation=\"softmax\", name=\"output\")(x)\n",
    "    \n",
    "    model = keras.models.Model(inputs=[input_layer], outputs=[out])\n",
    "    return model"
   ]
  },
  {
   "cell_type": "code",
   "execution_count": 6,
   "metadata": {},
   "outputs": [],
   "source": [
    "## 超參數設定\n",
    "LEARNING_RATE = 1e-3\n",
    "EPOCHS = 25\n",
    "BATCH_SIZE = 1024\n",
    "MOMENTUM = 0.95"
   ]
  },
  {
   "cell_type": "code",
   "execution_count": 9,
   "metadata": {},
   "outputs": [],
   "source": [
    "# 載入 Callbacks\n",
    "from keras.callbacks import Callback\n",
    "import numpy as np\n",
    "# Record_fp_tp\n",
    "class Record_tp_tn(Callback):\n",
    "    \"\"\"Code Here\n",
    "    撰寫一個紀錄 ture positive 與 true negative 數量的 callbacks    \n",
    "    \"\"\"\n",
    "    def on_train_begin(self, epoch, logs = {}):\n",
    "        logs = logs or {}\n",
    "        record_items = [\"val_fp\", \"val_fn\", \"val_tp\", \"val_tn\"]\n",
    "        for i in record_items:\n",
    "            if i not in self.params['metrics']:\n",
    "                self.params['metrics'].append(i)\n",
    "    def on_epoch_end(self, epoch, logs = {}, thres=0.5):\n",
    "        logs = logs or {}\n",
    "        y_true = self.validation_data[1].argmax(axis = 1)\n",
    "        y_pred = self.model.predict(self.validation_data[0])\n",
    "        y_pred = (y_pred[:, 1] >= thres) * 1\n",
    "        \n",
    "        logs[\"val_tp\"] = np.sum((y_true == y_pred) * y_true)\n",
    "        logs[\"val_tn\"] = np.sum((y_true == y_pred) * (1-y_true))\n",
    "                \n",
    "rec_tptn = Record_tp_tn()"
   ]
  },
  {
   "cell_type": "code",
   "execution_count": 10,
   "metadata": {
    "scrolled": true
   },
   "outputs": [
    {
     "name": "stdout",
     "output_type": "stream",
     "text": [
      "_________________________________________________________________\n",
      "Layer (type)                 Output Shape              Param #   \n",
      "=================================================================\n",
      "input_2 (InputLayer)         (None, 3072)              0         \n",
      "_________________________________________________________________\n",
      "hidden_layer1 (Dense)        (None, 256)               786688    \n",
      "_________________________________________________________________\n",
      "batch_normalization_4 (Batch (None, 256)               1024      \n",
      "_________________________________________________________________\n",
      "hidden_layer2 (Dense)        (None, 256)               65792     \n",
      "_________________________________________________________________\n",
      "batch_normalization_5 (Batch (None, 256)               1024      \n",
      "_________________________________________________________________\n",
      "hidden_layer3 (Dense)        (None, 256)               65792     \n",
      "_________________________________________________________________\n",
      "batch_normalization_6 (Batch (None, 256)               1024      \n",
      "_________________________________________________________________\n",
      "output (Dense)               (None, 10)                2570      \n",
      "=================================================================\n",
      "Total params: 923,914\n",
      "Trainable params: 922,378\n",
      "Non-trainable params: 1,536\n",
      "_________________________________________________________________\n",
      "Train on 50000 samples, validate on 10000 samples\n",
      "Epoch 1/25\n",
      "50000/50000 [==============================] - 6s 115us/step - loss: 2.2561 - acc: 0.2652 - val_loss: 2.1751 - val_acc: 0.2953\n",
      "Epoch 2/25\n",
      "50000/50000 [==============================] - 5s 92us/step - loss: 1.7658 - acc: 0.3865 - val_loss: 1.8912 - val_acc: 0.3614\n",
      "Epoch 3/25\n",
      "50000/50000 [==============================] - 4s 89us/step - loss: 1.6390 - acc: 0.4254 - val_loss: 1.7085 - val_acc: 0.4070\n",
      "Epoch 4/25\n",
      "50000/50000 [==============================] - 4s 88us/step - loss: 1.5649 - acc: 0.4524 - val_loss: 1.6676 - val_acc: 0.4297\n",
      "Epoch 5/25\n",
      "50000/50000 [==============================] - 4s 89us/step - loss: 1.5112 - acc: 0.4691 - val_loss: 1.6176 - val_acc: 0.4397\n",
      "Epoch 6/25\n",
      "50000/50000 [==============================] - 4s 87us/step - loss: 1.4674 - acc: 0.4848 - val_loss: 1.5973 - val_acc: 0.4376\n",
      "Epoch 7/25\n",
      "50000/50000 [==============================] - 4s 88us/step - loss: 1.4282 - acc: 0.4984 - val_loss: 1.5658 - val_acc: 0.4523\n",
      "Epoch 8/25\n",
      "50000/50000 [==============================] - 4s 89us/step - loss: 1.3966 - acc: 0.5099 - val_loss: 1.5505 - val_acc: 0.4553\n",
      "Epoch 9/25\n",
      "50000/50000 [==============================] - 4s 86us/step - loss: 1.3657 - acc: 0.5240 - val_loss: 1.5223 - val_acc: 0.4644\n",
      "Epoch 10/25\n",
      "50000/50000 [==============================] - 4s 89us/step - loss: 1.3389 - acc: 0.5327 - val_loss: 1.5180 - val_acc: 0.4676\n",
      "Epoch 11/25\n",
      "50000/50000 [==============================] - 4s 87us/step - loss: 1.3118 - acc: 0.5416 - val_loss: 1.5005 - val_acc: 0.4719\n",
      "Epoch 12/25\n",
      "50000/50000 [==============================] - 4s 86us/step - loss: 1.2915 - acc: 0.5486 - val_loss: 1.5018 - val_acc: 0.4705\n",
      "Epoch 13/25\n",
      "50000/50000 [==============================] - 4s 88us/step - loss: 1.2682 - acc: 0.5569 - val_loss: 1.4805 - val_acc: 0.4808\n",
      "Epoch 14/25\n",
      "50000/50000 [==============================] - 4s 90us/step - loss: 1.2454 - acc: 0.5657 - val_loss: 1.4742 - val_acc: 0.4836\n",
      "Epoch 15/25\n",
      "50000/50000 [==============================] - 5s 92us/step - loss: 1.2250 - acc: 0.5739 - val_loss: 1.4852 - val_acc: 0.4789\n",
      "Epoch 16/25\n",
      "50000/50000 [==============================] - 5s 91us/step - loss: 1.2042 - acc: 0.5837 - val_loss: 1.4742 - val_acc: 0.4845\n",
      "Epoch 17/25\n",
      "50000/50000 [==============================] - 5s 92us/step - loss: 1.1843 - acc: 0.5907 - val_loss: 1.4690 - val_acc: 0.4866\n",
      "Epoch 18/25\n",
      "50000/50000 [==============================] - 7s 146us/step - loss: 1.1649 - acc: 0.5980 - val_loss: 1.4556 - val_acc: 0.4894\n",
      "Epoch 19/25\n",
      "50000/50000 [==============================] - 6s 117us/step - loss: 1.1464 - acc: 0.6051 - val_loss: 1.4683 - val_acc: 0.4860\n",
      "Epoch 20/25\n",
      "50000/50000 [==============================] - 5s 98us/step - loss: 1.1274 - acc: 0.6110 - val_loss: 1.4527 - val_acc: 0.4936\n",
      "Epoch 21/25\n",
      "50000/50000 [==============================] - 5s 97us/step - loss: 1.1101 - acc: 0.6173 - val_loss: 1.4645 - val_acc: 0.4928\n",
      "Epoch 22/25\n",
      "50000/50000 [==============================] - 5s 96us/step - loss: 1.0916 - acc: 0.6244 - val_loss: 1.4520 - val_acc: 0.4920\n",
      "Epoch 23/25\n",
      "50000/50000 [==============================] - 5s 96us/step - loss: 1.0753 - acc: 0.6290 - val_loss: 1.4529 - val_acc: 0.4937\n",
      "Epoch 24/25\n",
      "50000/50000 [==============================] - 5s 97us/step - loss: 1.0577 - acc: 0.6374 - val_loss: 1.4603 - val_acc: 0.4950\n",
      "Epoch 25/25\n",
      "50000/50000 [==============================] - 5s 104us/step - loss: 1.0417 - acc: 0.6430 - val_loss: 1.4566 - val_acc: 0.4933\n"
     ]
    }
   ],
   "source": [
    "model = build_mlp(input_shape=x_train.shape[1:])\n",
    "model.summary()\n",
    "optimizer = keras.optimizers.SGD(lr=LEARNING_RATE, nesterov=True, momentum=MOMENTUM)\n",
    "model.compile(loss=\"categorical_crossentropy\", metrics=[\"accuracy\"], optimizer=optimizer)\n",
    "\n",
    "\"\"\"Code Here\n",
    "將 callbacks 放入模型訓練流程中\n",
    "\"\"\"\n",
    "model.fit(x_train, y_train, \n",
    "          epochs=EPOCHS, \n",
    "          batch_size=BATCH_SIZE, \n",
    "          validation_data=(x_test, y_test), \n",
    "          shuffle=True,\n",
    "          callbacks=[rec_tptn])\n",
    "\n",
    "# Collect results\n",
    "train_loss = model.history.history[\"loss\"]\n",
    "valid_loss = model.history.history[\"val_loss\"]\n",
    "train_acc = model.history.history[\"acc\"]\n",
    "valid_acc = model.history.history[\"val_acc\"]\n",
    "\n",
    "\"\"\"Code Here\n",
    "將 tp/tn 從訓練完的模型中取出\n",
    "\"\"\"\n",
    "valid_tp = model.history.history[\"val_tp\"]\n",
    "valid_tn = model.history.history[\"val_tn\"]"
   ]
  },
  {
   "cell_type": "code",
   "execution_count": 11,
   "metadata": {},
   "outputs": [
    {
     "data": {
      "image/png": "[encoded data removed]",
      "text/plain": [
       "<Figure size 432x288 with 1 Axes>"
      ]
     },
     "metadata": {
      "needs_background": "light"
     },
     "output_type": "display_data"
    },
    {
     "data": {
      "image/png": "[encoded data removed]",
      "text/plain": [
       "<Figure size 432x288 with 1 Axes>"
      ]
     },
     "metadata": {
      "needs_background": "light"
     },
     "output_type": "display_data"
    },
    {
     "data": {
      "image/png": "[encoded data removed]",
      "text/plain": [
       "<Figure size 432x288 with 1 Axes>"
      ]
     },
     "metadata": {
      "needs_background": "light"
     },
     "output_type": "display_data"
    }
   ],
   "source": [
    "import matplotlib.pyplot as plt\n",
    "%matplotlib inline\n",
    "\n",
    "plt.plot(range(len(train_loss)), train_loss, label=\"train loss\")\n",
    "plt.plot(range(len(valid_loss)), valid_loss, label=\"valid loss\")\n",
    "plt.legend()\n",
    "plt.title(\"Loss\")\n",
    "plt.show()\n",
    "\n",
    "plt.plot(range(len(train_acc)), train_acc, label=\"train accuracy\")\n",
    "plt.plot(range(len(valid_acc)), valid_acc, label=\"valid accuracy\")\n",
    "plt.legend()\n",
    "plt.title(\"Accuracy\")\n",
    "plt.show()\n",
    "\n",
    "plt.plot(range(len(valid_tp)), valid_tp, label=\"valid tp\", color=\"navy\")\n",
    "plt.plot(range(len(valid_tn)), valid_tn, label=\"valid tn\", color=\"red\")\n",
    "plt.legend()\n",
    "plt.title(\"True positives and True Negatives\")\n",
    "plt.show()\n"
   ]
  },
  {
   "cell_type": "code",
   "execution_count": null,
   "metadata": {},
   "outputs": [],
   "source": []
  }
 ],
 "metadata": {
  "kernelspec": {
   "display_name": "Python 3",
   "language": "python",
   "name": "python3"
  },
  "language_info": {
   "codemirror_mode": {
    "name": "ipython",
    "version": 3
   },
   "file_extension": ".py",
   "mimetype": "text/x-python",
   "name": "python",
   "nbconvert_exporter": "python",
   "pygments_lexer": "ipython3",
   "version": "3.7.3"
  }
 },
 "nbformat": 4,
 "nbformat_minor": 2
}
