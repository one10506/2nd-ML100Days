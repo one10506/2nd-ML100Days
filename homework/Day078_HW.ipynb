{
 "cells": [
  {
   "cell_type": "markdown",
   "metadata": {},
   "source": [
    "## Work\n",
    "1. 請嘗試將 preproc_x 替換成以每筆資料的 min/max 進行標準化至 -1 ~ 1 間，再進行訓練\n",
    "2. 請嘗試將 mlp 疊更深 (e.g 5~10 層)，進行訓練後觀察 learning curve 的走勢\n",
    "3. (optional) 請改用 GPU 進行訓練 (如果你有 GPU 的話)，比較使用 CPU 與 GPU 的訓練速度"
   ]
  },
  {
   "cell_type": "code",
   "execution_count": 1,
   "metadata": {},
   "outputs": [],
   "source": [
    "## \n",
    "\"\"\"\n",
    "Your code here (optional)\n",
    "確認硬體資源\n",
    "\"\"\"\n"
   ]
  },
  {
   "cell_type": "code",
   "execution_count": 2,
   "metadata": {},
   "outputs": [],
   "source": [
    "import os\n",
    "import keras\n",
    "\n",
    "# 請嘗試設定 GPU：os.environ\n"
   ]
  },
  {
   "cell_type": "code",
   "execution_count": 3,
   "metadata": {},
   "outputs": [],
   "source": [
    "train, test = keras.datasets.cifar10.load_data()"
   ]
  },
  {
   "cell_type": "code",
   "execution_count": 4,
   "metadata": {},
   "outputs": [],
   "source": [
    "## 資料前處理\n",
    "\"\"\"\n",
    "Your code here\n",
    "\"\"\"\n",
    "def preproc_x(x, flatten=True):\n",
    "    x = x / 255.\n",
    "    if flatten:\n",
    "        x = x.reshape((len(x), -1))\n",
    "    return x\n",
    "\n",
    "def preproc_y(y, num_classes=10):\n",
    "    if y.shape[-1] == 1:\n",
    "        y = keras.utils.to_categorical(y, num_classes)\n",
    "    return y    "
   ]
  },
  {
   "cell_type": "code",
   "execution_count": 5,
   "metadata": {},
   "outputs": [],
   "source": [
    "x_train, y_train = train\n",
    "x_test, y_test = test\n",
    "\n",
    "# Preproc the inputs\n",
    "x_train = preproc_x(x_train)\n",
    "x_test = preproc_x(x_test)\n",
    "\n",
    "# Preprc the outputs\n",
    "y_train = preproc_y(y_train)\n",
    "y_test = preproc_y(y_test)"
   ]
  },
  {
   "cell_type": "code",
   "execution_count": 6,
   "metadata": {},
   "outputs": [],
   "source": [
    "\"\"\"Code Here\n",
    "建立你的神經網路\n",
    "\"\"\"\n",
    "def build_mlp(input_shape, output_units=10, num_neurons=[512, 256, 128]):\n",
    "    input_layer = keras.layers.Input(input_shape)\n",
    "    \n",
    "    for i, n_units in enumerate(num_neurons):\n",
    "        if i == 0:\n",
    "            x = keras.layers.Dense(units=n_units, activation=\"relu\", name=\"hidden_layer\"+str(i+1))(input_layer)\n",
    "        else:\n",
    "            x = keras.layers.Dense(units=n_units, activation=\"relu\", name=\"hidden_layer\"+str(i+1))(x)\n",
    "    \n",
    "    out = keras.layers.Dense(units=output_units, activation=\"softmax\", name=\"output\")(x)\n",
    "    \n",
    "    model = keras.models.Model(inputs=[input_layer], outputs=[out])\n",
    "    return model"
   ]
  },
  {
   "cell_type": "code",
   "execution_count": 7,
   "metadata": {},
   "outputs": [
    {
     "name": "stderr",
     "output_type": "stream",
     "text": [
      "WARNING: Logging before flag parsing goes to stderr.\n",
      "W0722 09:33:17.714983 14556 deprecation_wrapper.py:119] From C:\\Users\\user\\Anaconda3\\lib\\site-packages\\keras\\backend\\tensorflow_backend.py:74: The name tf.get_default_graph is deprecated. Please use tf.compat.v1.get_default_graph instead.\n",
      "\n",
      "W0722 09:33:18.625298 14556 deprecation_wrapper.py:119] From C:\\Users\\user\\Anaconda3\\lib\\site-packages\\keras\\backend\\tensorflow_backend.py:517: The name tf.placeholder is deprecated. Please use tf.compat.v1.placeholder instead.\n",
      "\n",
      "W0722 09:33:18.635271 14556 deprecation_wrapper.py:119] From C:\\Users\\user\\Anaconda3\\lib\\site-packages\\keras\\backend\\tensorflow_backend.py:4138: The name tf.random_uniform is deprecated. Please use tf.random.uniform instead.\n",
      "\n"
     ]
    },
    {
     "name": "stdout",
     "output_type": "stream",
     "text": [
      "_________________________________________________________________\n",
      "Layer (type)                 Output Shape              Param #   \n",
      "=================================================================\n",
      "input_1 (InputLayer)         (None, 3072)              0         \n",
      "_________________________________________________________________\n",
      "hidden_layer1 (Dense)        (None, 512)               1573376   \n",
      "_________________________________________________________________\n",
      "hidden_layer2 (Dense)        (None, 256)               131328    \n",
      "_________________________________________________________________\n",
      "hidden_layer3 (Dense)        (None, 128)               32896     \n",
      "_________________________________________________________________\n",
      "output (Dense)               (None, 10)                1290      \n",
      "=================================================================\n",
      "Total params: 1,738,890\n",
      "Trainable params: 1,738,890\n",
      "Non-trainable params: 0\n",
      "_________________________________________________________________\n"
     ]
    }
   ],
   "source": [
    "model = build_mlp(input_shape=x_train.shape[1:])\n",
    "model.summary()"
   ]
  },
  {
   "cell_type": "code",
   "execution_count": 8,
   "metadata": {},
   "outputs": [],
   "source": [
    "## 超參數設定\n",
    "LEARNING_RATE = 0.001\n",
    "EPOCHS = 100\n",
    "BATCH_SIZE = 256"
   ]
  },
  {
   "cell_type": "code",
   "execution_count": 9,
   "metadata": {},
   "outputs": [
    {
     "name": "stderr",
     "output_type": "stream",
     "text": [
      "W0722 09:33:38.674909 14556 deprecation_wrapper.py:119] From C:\\Users\\user\\Anaconda3\\lib\\site-packages\\keras\\optimizers.py:790: The name tf.train.Optimizer is deprecated. Please use tf.compat.v1.train.Optimizer instead.\n",
      "\n",
      "W0722 09:33:38.686910 14556 deprecation_wrapper.py:119] From C:\\Users\\user\\Anaconda3\\lib\\site-packages\\keras\\backend\\tensorflow_backend.py:3295: The name tf.log is deprecated. Please use tf.math.log instead.\n",
      "\n"
     ]
    }
   ],
   "source": [
    "optimizer = keras.optimizers.Adam(lr=LEARNING_RATE)\n",
    "model.compile(loss=\"categorical_crossentropy\", metrics=[\"accuracy\"], optimizer=optimizer)"
   ]
  },
  {
   "cell_type": "code",
   "execution_count": 10,
   "metadata": {},
   "outputs": [
    {
     "name": "stderr",
     "output_type": "stream",
     "text": [
      "W0722 09:33:40.239177 14556 deprecation.py:323] From C:\\Users\\user\\Anaconda3\\lib\\site-packages\\tensorflow\\python\\ops\\math_grad.py:1250: add_dispatch_support.<locals>.wrapper (from tensorflow.python.ops.array_ops) is deprecated and will be removed in a future version.\n",
      "Instructions for updating:\n",
      "Use tf.where in 2.0, which has the same broadcast rule as np.where\n",
      "W0722 09:33:40.286053 14556 deprecation_wrapper.py:119] From C:\\Users\\user\\Anaconda3\\lib\\site-packages\\keras\\backend\\tensorflow_backend.py:986: The name tf.assign_add is deprecated. Please use tf.compat.v1.assign_add instead.\n",
      "\n"
     ]
    },
    {
     "name": "stdout",
     "output_type": "stream",
     "text": [
      "Train on 50000 samples, validate on 10000 samples\n",
      "Epoch 1/100\n",
      "50000/50000 [==============================] - 27s 546us/step - loss: 1.9609 - acc: 0.2920 - val_loss: 1.8510 - val_acc: 0.3285\n",
      "Epoch 2/100\n",
      "50000/50000 [==============================] - 9s 174us/step - loss: 1.7118 - acc: 0.3890 - val_loss: 1.6523 - val_acc: 0.4141\n",
      "Epoch 3/100\n",
      "50000/50000 [==============================] - 9s 178us/step - loss: 1.6242 - acc: 0.4202 - val_loss: 1.6349 - val_acc: 0.4161\n",
      "Epoch 4/100\n",
      "50000/50000 [==============================] - 9s 177us/step - loss: 1.5596 - acc: 0.4445 - val_loss: 1.5536 - val_acc: 0.4425\n",
      "Epoch 5/100\n",
      "50000/50000 [==============================] - 9s 185us/step - loss: 1.5146 - acc: 0.4583 - val_loss: 1.5275 - val_acc: 0.4454\n",
      "Epoch 6/100\n",
      "50000/50000 [==============================] - 10s 195us/step - loss: 1.4790 - acc: 0.4709 - val_loss: 1.4839 - val_acc: 0.4669\n",
      "Epoch 7/100\n",
      "50000/50000 [==============================] - 9s 182us/step - loss: 1.4429 - acc: 0.4860 - val_loss: 1.4568 - val_acc: 0.4829\n",
      "Epoch 8/100\n",
      "50000/50000 [==============================] - 9s 175us/step - loss: 1.4125 - acc: 0.4962 - val_loss: 1.4627 - val_acc: 0.4772\n",
      "Epoch 9/100\n",
      "50000/50000 [==============================] - 8s 164us/step - loss: 1.3861 - acc: 0.5073 - val_loss: 1.4325 - val_acc: 0.4955\n",
      "Epoch 10/100\n",
      "50000/50000 [==============================] - 8s 164us/step - loss: 1.3623 - acc: 0.5158 - val_loss: 1.4799 - val_acc: 0.4741\n",
      "Epoch 11/100\n",
      "50000/50000 [==============================] - 9s 179us/step - loss: 1.3420 - acc: 0.5217 - val_loss: 1.4342 - val_acc: 0.4898\n",
      "Epoch 12/100\n",
      "50000/50000 [==============================] - 9s 176us/step - loss: 1.3094 - acc: 0.5334 - val_loss: 1.4371 - val_acc: 0.4891\n",
      "Epoch 13/100\n",
      "50000/50000 [==============================] - 9s 176us/step - loss: 1.2912 - acc: 0.5401 - val_loss: 1.3858 - val_acc: 0.5049\n",
      "Epoch 14/100\n",
      "50000/50000 [==============================] - 9s 174us/step - loss: 1.2655 - acc: 0.5505 - val_loss: 1.4418 - val_acc: 0.4919\n",
      "Epoch 15/100\n",
      "50000/50000 [==============================] - 9s 180us/step - loss: 1.2487 - acc: 0.5548 - val_loss: 1.3912 - val_acc: 0.5076\n",
      "Epoch 16/100\n",
      "50000/50000 [==============================] - 9s 190us/step - loss: 1.2211 - acc: 0.5643 - val_loss: 1.3681 - val_acc: 0.5199\n",
      "Epoch 17/100\n",
      "50000/50000 [==============================] - 9s 175us/step - loss: 1.1987 - acc: 0.5754 - val_loss: 1.3977 - val_acc: 0.5102\n",
      "Epoch 18/100\n",
      "50000/50000 [==============================] - 9s 180us/step - loss: 1.1843 - acc: 0.5778 - val_loss: 1.3982 - val_acc: 0.5122\n",
      "Epoch 19/100\n",
      "50000/50000 [==============================] - 9s 172us/step - loss: 1.1604 - acc: 0.5845 - val_loss: 1.4047 - val_acc: 0.5167\n",
      "Epoch 20/100\n",
      "50000/50000 [==============================] - 9s 179us/step - loss: 1.1409 - acc: 0.5942 - val_loss: 1.3614 - val_acc: 0.5234\n",
      "Epoch 21/100\n",
      "50000/50000 [==============================] - 8s 165us/step - loss: 1.1137 - acc: 0.6036 - val_loss: 1.3925 - val_acc: 0.5128\n",
      "Epoch 22/100\n",
      "50000/50000 [==============================] - 8s 163us/step - loss: 1.0973 - acc: 0.6082 - val_loss: 1.3968 - val_acc: 0.5160\n",
      "Epoch 23/100\n",
      "50000/50000 [==============================] - 8s 163us/step - loss: 1.0883 - acc: 0.6114 - val_loss: 1.3667 - val_acc: 0.5230\n",
      "Epoch 24/100\n",
      "50000/50000 [==============================] - 8s 163us/step - loss: 1.0567 - acc: 0.6226 - val_loss: 1.3895 - val_acc: 0.5213\n",
      "Epoch 25/100\n",
      "50000/50000 [==============================] - 9s 176us/step - loss: 1.0497 - acc: 0.6252 - val_loss: 1.4039 - val_acc: 0.5183\n",
      "Epoch 26/100\n",
      "50000/50000 [==============================] - 9s 176us/step - loss: 1.0309 - acc: 0.6304 - val_loss: 1.3943 - val_acc: 0.5287\n",
      "Epoch 27/100\n",
      "50000/50000 [==============================] - 9s 188us/step - loss: 0.9975 - acc: 0.6431 - val_loss: 1.4042 - val_acc: 0.5227\n",
      "Epoch 28/100\n",
      "50000/50000 [==============================] - 12s 231us/step - loss: 0.9791 - acc: 0.6486 - val_loss: 1.4035 - val_acc: 0.5331\n",
      "Epoch 29/100\n",
      "50000/50000 [==============================] - 10s 194us/step - loss: 0.9722 - acc: 0.6522 - val_loss: 1.4149 - val_acc: 0.5306\n",
      "Epoch 30/100\n",
      "50000/50000 [==============================] - 10s 205us/step - loss: 0.9503 - acc: 0.6597 - val_loss: 1.4652 - val_acc: 0.5086\n",
      "Epoch 31/100\n",
      "50000/50000 [==============================] - 9s 183us/step - loss: 0.9325 - acc: 0.6669 - val_loss: 1.4557 - val_acc: 0.5195\n",
      "Epoch 32/100\n",
      "50000/50000 [==============================] - 9s 184us/step - loss: 0.9187 - acc: 0.6721 - val_loss: 1.4729 - val_acc: 0.5227\n",
      "Epoch 33/100\n",
      "50000/50000 [==============================] - 9s 186us/step - loss: 0.9031 - acc: 0.6768 - val_loss: 1.4474 - val_acc: 0.5307\n",
      "Epoch 34/100\n",
      "50000/50000 [==============================] - 9s 185us/step - loss: 0.8787 - acc: 0.6853 - val_loss: 1.4809 - val_acc: 0.5170\n",
      "Epoch 35/100\n",
      "50000/50000 [==============================] - 10s 202us/step - loss: 0.8632 - acc: 0.6919 - val_loss: 1.4935 - val_acc: 0.5236\n",
      "Epoch 36/100\n",
      "50000/50000 [==============================] - 9s 183us/step - loss: 0.8406 - acc: 0.6979 - val_loss: 1.5144 - val_acc: 0.5188\n",
      "Epoch 37/100\n",
      "50000/50000 [==============================] - 8s 168us/step - loss: 0.8388 - acc: 0.6993 - val_loss: 1.5427 - val_acc: 0.5202\n",
      "Epoch 38/100\n",
      "50000/50000 [==============================] - 8s 159us/step - loss: 0.8198 - acc: 0.7081 - val_loss: 1.5477 - val_acc: 0.5148\n",
      "Epoch 39/100\n",
      "50000/50000 [==============================] - 8s 158us/step - loss: 0.8063 - acc: 0.7112 - val_loss: 1.6203 - val_acc: 0.5090\n",
      "Epoch 40/100\n",
      "50000/50000 [==============================] - 8s 158us/step - loss: 0.7955 - acc: 0.7157 - val_loss: 1.5401 - val_acc: 0.5171\n",
      "Epoch 41/100\n",
      "50000/50000 [==============================] - 8s 160us/step - loss: 0.7671 - acc: 0.7237 - val_loss: 1.6257 - val_acc: 0.5173\n",
      "Epoch 42/100\n",
      "50000/50000 [==============================] - 8s 162us/step - loss: 0.7610 - acc: 0.7277 - val_loss: 1.5925 - val_acc: 0.5260\n",
      "Epoch 43/100\n",
      "50000/50000 [==============================] - 8s 159us/step - loss: 0.7399 - acc: 0.7357 - val_loss: 1.6314 - val_acc: 0.5238\n",
      "Epoch 44/100\n",
      "50000/50000 [==============================] - 8s 158us/step - loss: 0.7302 - acc: 0.7383 - val_loss: 1.5993 - val_acc: 0.5281\n",
      "Epoch 45/100\n",
      "50000/50000 [==============================] - 8s 158us/step - loss: 0.7092 - acc: 0.7462 - val_loss: 1.6484 - val_acc: 0.5219\n",
      "Epoch 46/100\n",
      "50000/50000 [==============================] - 8s 159us/step - loss: 0.6980 - acc: 0.7519 - val_loss: 1.7108 - val_acc: 0.5227\n",
      "Epoch 47/100\n",
      "50000/50000 [==============================] - 8s 159us/step - loss: 0.6844 - acc: 0.7546 - val_loss: 1.6889 - val_acc: 0.5211\n",
      "Epoch 48/100\n",
      "50000/50000 [==============================] - 8s 161us/step - loss: 0.6705 - acc: 0.7605 - val_loss: 1.7301 - val_acc: 0.5240\n",
      "Epoch 49/100\n",
      "50000/50000 [==============================] - 8s 162us/step - loss: 0.6563 - acc: 0.7645 - val_loss: 1.7452 - val_acc: 0.5168\n",
      "Epoch 50/100\n",
      "50000/50000 [==============================] - 8s 163us/step - loss: 0.6442 - acc: 0.7704 - val_loss: 1.7471 - val_acc: 0.5241\n",
      "Epoch 51/100\n",
      "50000/50000 [==============================] - 8s 161us/step - loss: 0.6404 - acc: 0.7688 - val_loss: 1.7940 - val_acc: 0.5151\n",
      "Epoch 52/100\n",
      "50000/50000 [==============================] - 8s 163us/step - loss: 0.6272 - acc: 0.7747 - val_loss: 1.7937 - val_acc: 0.5261\n",
      "Epoch 53/100\n",
      "50000/50000 [==============================] - 8s 166us/step - loss: 0.5983 - acc: 0.7859 - val_loss: 1.8884 - val_acc: 0.5070\n",
      "Epoch 54/100\n",
      "50000/50000 [==============================] - 8s 163us/step - loss: 0.6072 - acc: 0.7820 - val_loss: 1.8777 - val_acc: 0.5205\n",
      "Epoch 55/100\n",
      "50000/50000 [==============================] - 8s 164us/step - loss: 0.5906 - acc: 0.7859 - val_loss: 1.9184 - val_acc: 0.5168\n",
      "Epoch 56/100\n",
      "50000/50000 [==============================] - 8s 165us/step - loss: 0.5821 - acc: 0.7908 - val_loss: 1.9206 - val_acc: 0.5214\n",
      "Epoch 57/100\n",
      "50000/50000 [==============================] - 8s 162us/step - loss: 0.5658 - acc: 0.7962 - val_loss: 1.9607 - val_acc: 0.5142\n",
      "Epoch 58/100\n",
      "50000/50000 [==============================] - 8s 163us/step - loss: 0.5609 - acc: 0.7995 - val_loss: 1.9913 - val_acc: 0.5157\n",
      "Epoch 59/100\n",
      "50000/50000 [==============================] - 8s 164us/step - loss: 0.5439 - acc: 0.8053 - val_loss: 2.0044 - val_acc: 0.5116\n",
      "Epoch 60/100\n",
      "50000/50000 [==============================] - 10s 197us/step - loss: 0.5355 - acc: 0.8075 - val_loss: 2.0373 - val_acc: 0.5107\n",
      "Epoch 61/100\n",
      "50000/50000 [==============================] - 9s 177us/step - loss: 0.5262 - acc: 0.8119 - val_loss: 2.0628 - val_acc: 0.5178\n",
      "Epoch 62/100\n",
      "50000/50000 [==============================] - 8s 162us/step - loss: 0.5184 - acc: 0.8125 - val_loss: 2.0924 - val_acc: 0.5113\n",
      "Epoch 63/100\n",
      "50000/50000 [==============================] - 8s 165us/step - loss: 0.5321 - acc: 0.8097 - val_loss: 2.1088 - val_acc: 0.5140\n",
      "Epoch 64/100\n",
      "50000/50000 [==============================] - 9s 177us/step - loss: 0.4953 - acc: 0.8231 - val_loss: 2.1444 - val_acc: 0.5135\n",
      "Epoch 65/100\n",
      "50000/50000 [==============================] - 8s 167us/step - loss: 0.4896 - acc: 0.8245 - val_loss: 2.1514 - val_acc: 0.5077\n",
      "Epoch 66/100\n",
      "50000/50000 [==============================] - 9s 178us/step - loss: 0.4851 - acc: 0.8256 - val_loss: 2.1347 - val_acc: 0.5207\n",
      "Epoch 67/100\n",
      "50000/50000 [==============================] - 9s 176us/step - loss: 0.4796 - acc: 0.8275 - val_loss: 2.2184 - val_acc: 0.5016\n",
      "Epoch 68/100\n",
      "50000/50000 [==============================] - 10s 197us/step - loss: 0.4687 - acc: 0.8321 - val_loss: 2.2230 - val_acc: 0.5172\n",
      "Epoch 69/100\n",
      "50000/50000 [==============================] - 9s 190us/step - loss: 0.4444 - acc: 0.8406 - val_loss: 2.2557 - val_acc: 0.5144\n",
      "Epoch 70/100\n",
      "50000/50000 [==============================] - 9s 184us/step - loss: 0.4505 - acc: 0.8387 - val_loss: 2.3180 - val_acc: 0.5157\n",
      "Epoch 71/100\n",
      "50000/50000 [==============================] - 9s 185us/step - loss: 0.4473 - acc: 0.8379 - val_loss: 2.2794 - val_acc: 0.5179\n",
      "Epoch 72/100\n",
      "50000/50000 [==============================] - 8s 168us/step - loss: 0.4251 - acc: 0.8483 - val_loss: 2.3239 - val_acc: 0.5173\n",
      "Epoch 73/100\n",
      "50000/50000 [==============================] - 9s 170us/step - loss: 0.4382 - acc: 0.8447 - val_loss: 2.3328 - val_acc: 0.5090\n",
      "Epoch 74/100\n",
      "50000/50000 [==============================] - 9s 173us/step - loss: 0.4069 - acc: 0.8556 - val_loss: 2.4501 - val_acc: 0.5053\n",
      "Epoch 75/100\n",
      "50000/50000 [==============================] - 8s 165us/step - loss: 0.4098 - acc: 0.8539 - val_loss: 2.4148 - val_acc: 0.5090\n",
      "Epoch 76/100\n",
      "50000/50000 [==============================] - 8s 168us/step - loss: 0.4127 - acc: 0.8510 - val_loss: 2.4082 - val_acc: 0.5123\n",
      "Epoch 77/100\n",
      "50000/50000 [==============================] - 8s 167us/step - loss: 0.4073 - acc: 0.8533 - val_loss: 2.5021 - val_acc: 0.5053\n",
      "Epoch 78/100\n",
      "50000/50000 [==============================] - 9s 174us/step - loss: 0.3919 - acc: 0.8588 - val_loss: 2.5320 - val_acc: 0.5131\n",
      "Epoch 79/100\n",
      "50000/50000 [==============================] - 8s 168us/step - loss: 0.3861 - acc: 0.8614 - val_loss: 2.5512 - val_acc: 0.5083\n",
      "Epoch 80/100\n",
      "50000/50000 [==============================] - 9s 173us/step - loss: 0.3814 - acc: 0.8635 - val_loss: 2.5222 - val_acc: 0.5036\n",
      "Epoch 81/100\n",
      "50000/50000 [==============================] - 9s 184us/step - loss: 0.3865 - acc: 0.8604 - val_loss: 2.6232 - val_acc: 0.5095\n",
      "Epoch 82/100\n",
      "50000/50000 [==============================] - 9s 183us/step - loss: 0.3770 - acc: 0.8633 - val_loss: 2.6605 - val_acc: 0.5051\n",
      "Epoch 83/100\n",
      "50000/50000 [==============================] - 10s 193us/step - loss: 0.3732 - acc: 0.8659 - val_loss: 2.6597 - val_acc: 0.4986\n",
      "Epoch 84/100\n",
      "50000/50000 [==============================] - 10s 190us/step - loss: 0.3842 - acc: 0.8594 - val_loss: 2.5953 - val_acc: 0.5114\n",
      "Epoch 85/100\n",
      "50000/50000 [==============================] - 9s 185us/step - loss: 0.3627 - acc: 0.8700 - val_loss: 2.6759 - val_acc: 0.5023\n",
      "Epoch 86/100\n",
      "50000/50000 [==============================] - 10s 203us/step - loss: 0.3507 - acc: 0.8745 - val_loss: 2.6387 - val_acc: 0.5057\n",
      "Epoch 87/100\n",
      "50000/50000 [==============================] - 10s 190us/step - loss: 0.3459 - acc: 0.8742 - val_loss: 2.7061 - val_acc: 0.5037\n",
      "Epoch 88/100\n",
      "50000/50000 [==============================] - 9s 178us/step - loss: 0.3426 - acc: 0.8783 - val_loss: 2.7000 - val_acc: 0.5106\n",
      "Epoch 89/100\n",
      "50000/50000 [==============================] - 9s 177us/step - loss: 0.3294 - acc: 0.8820 - val_loss: 2.8103 - val_acc: 0.5036\n",
      "Epoch 90/100\n",
      "50000/50000 [==============================] - 9s 180us/step - loss: 0.3170 - acc: 0.8874 - val_loss: 2.8178 - val_acc: 0.5043\n",
      "Epoch 91/100\n",
      "50000/50000 [==============================] - 2544s 51ms/step - loss: 0.3298 - acc: 0.8818 - val_loss: 2.8502 - val_acc: 0.4990\n",
      "Epoch 92/100\n",
      "50000/50000 [==============================] - 9s 170us/step - loss: 0.3340 - acc: 0.8795 - val_loss: 2.8258 - val_acc: 0.5069\n",
      "Epoch 93/100\n",
      "50000/50000 [==============================] - 8s 160us/step - loss: 0.3124 - acc: 0.8882 - val_loss: 2.8462 - val_acc: 0.5073\n",
      "Epoch 94/100\n",
      "50000/50000 [==============================] - 8s 164us/step - loss: 0.3213 - acc: 0.8844 - val_loss: 2.8998 - val_acc: 0.5101\n",
      "Epoch 95/100\n",
      "50000/50000 [==============================] - 8s 158us/step - loss: 0.3204 - acc: 0.8830 - val_loss: 2.8921 - val_acc: 0.5042\n",
      "Epoch 96/100\n",
      "50000/50000 [==============================] - 8s 157us/step - loss: 0.3024 - acc: 0.8918 - val_loss: 2.9220 - val_acc: 0.5065\n",
      "Epoch 97/100\n",
      "50000/50000 [==============================] - 8s 164us/step - loss: 0.3135 - acc: 0.8861 - val_loss: 3.0188 - val_acc: 0.4987\n",
      "Epoch 98/100\n",
      "50000/50000 [==============================] - 9s 179us/step - loss: 0.3156 - acc: 0.8863 - val_loss: 3.0235 - val_acc: 0.4947\n",
      "Epoch 99/100\n",
      "50000/50000 [==============================] - 9s 182us/step - loss: 0.2842 - acc: 0.8981 - val_loss: 3.0483 - val_acc: 0.4974\n",
      "Epoch 100/100\n",
      "50000/50000 [==============================] - 9s 181us/step - loss: 0.3007 - acc: 0.8916 - val_loss: 3.1402 - val_acc: 0.4975\n"
     ]
    },
    {
     "data": {
      "text/plain": [
       "<keras.callbacks.History at 0x1ff1a537358>"
      ]
     },
     "execution_count": 10,
     "metadata": {},
     "output_type": "execute_result"
    }
   ],
   "source": [
    "model.fit(x_train, y_train, \n",
    "          epochs=EPOCHS, \n",
    "          batch_size=BATCH_SIZE, \n",
    "          validation_data=(x_test, y_test), \n",
    "          shuffle=True)"
   ]
  },
  {
   "cell_type": "code",
   "execution_count": 12,
   "metadata": {},
   "outputs": [
    {
     "data": {
      "image/png": "[encoded data removed]",
      "text/plain": [
       "<Figure size 432x288 with 1 Axes>"
      ]
     },
     "metadata": {
      "needs_background": "light"
     },
     "output_type": "display_data"
    },
    {
     "data": {
      "image/png": "[encoded data removed]",
      "text/plain": [
       "<Figure size 432x288 with 1 Axes>"
      ]
     },
     "metadata": {
      "needs_background": "light"
     },
     "output_type": "display_data"
    }
   ],
   "source": [
    "import matplotlib.pyplot as plt\n",
    "\n",
    "\n",
    "train_loss = model.history.history[\"loss\"]\n",
    "valid_loss = model.history.history[\"val_loss\"]\n",
    "\n",
    "train_acc = model.history.history[\"acc\"]\n",
    "valid_acc = model.history.history[\"val_acc\"]\n",
    "\n",
    "plt.plot(range(len(train_loss)), train_loss, label=\"train loss\")\n",
    "plt.plot(range(len(valid_loss)), valid_loss, label=\"valid loss\")\n",
    "plt.legend()\n",
    "plt.title(\"Loss\")\n",
    "plt.show()\n",
    "\n",
    "plt.plot(range(len(train_acc)), train_acc, label=\"train accuracy\")\n",
    "plt.plot(range(len(valid_acc)), valid_acc, label=\"valid accuracy\")\n",
    "plt.legend()\n",
    "plt.title(\"Accuracy\")\n",
    "plt.show()"
   ]
  },
  {
   "cell_type": "code",
   "execution_count": null,
   "metadata": {},
   "outputs": [],
   "source": []
  }
 ],
 "metadata": {
  "kernelspec": {
   "display_name": "Python 3",
   "language": "python",
   "name": "python3"
  },
  "language_info": {
   "codemirror_mode": {
    "name": "ipython",
    "version": 3
   },
   "file_extension": ".py",
   "mimetype": "text/x-python",
   "name": "python",
   "nbconvert_exporter": "python",
   "pygments_lexer": "ipython3",
   "version": "3.7.1"
  }
 },
 "nbformat": 4,
 "nbformat_minor": 2
}
